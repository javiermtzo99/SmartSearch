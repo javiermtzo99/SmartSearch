{
 "cells": [
  {
   "cell_type": "code",
   "execution_count": 1,
   "id": "21cd4c75-1f7f-4915-ac24-1d0e2b353bca",
   "metadata": {},
   "outputs": [
    {
     "name": "stderr",
     "output_type": "stream",
     "text": [
      "/Users/javiermartinez/anaconda3/lib/python3.12/site-packages/sentence_transformers/cross_encoder/CrossEncoder.py:13: TqdmExperimentalWarning: Using `tqdm.autonotebook.tqdm` in notebook mode. Use `tqdm.tqdm` instead to force console mode (e.g. in jupyter console)\n",
      "  from tqdm.autonotebook import tqdm, trange\n"
     ]
    }
   ],
   "source": [
    "import faiss\n",
    "import pandas as pd\n",
    "import numpy as np\n",
    "from sentence_transformers import SentenceTransformer"
   ]
  },
  {
   "cell_type": "code",
   "execution_count": 2,
   "id": "b00b433c-7f20-4639-9898-fb2d03c93bff",
   "metadata": {},
   "outputs": [],
   "source": [
    "# Example dataframe with discussion data\n",
    "data = {\n",
    "    'discussion_id': [1, 2, 3],\n",
    "    'discussion_text': [\n",
    "        'How to implement data indexing in Python?',\n",
    "        'The FAISS library is useful for vector search.',\n",
    "        'GPT models can be used for generating embeddings.'\n",
    "    ]\n",
    "}\n",
    "df = pd.DataFrame(data)"
   ]
  },
  {
   "cell_type": "code",
   "execution_count": 3,
   "id": "ecdb4bd7-2ba8-4d5b-b3a5-bb0221174d82",
   "metadata": {},
   "outputs": [
    {
     "data": {
      "application/vnd.jupyter.widget-view+json": {
       "model_id": "ba0cd699bf5a407eb68cc7effc083ce7",
       "version_major": 2,
       "version_minor": 0
      },
      "text/plain": [
       "Batches:   0%|          | 0/1 [00:00<?, ?it/s]"
      ]
     },
     "metadata": {},
     "output_type": "display_data"
    }
   ],
   "source": [
    "# Load the SentenceTransformer model (auto-detects GPU if available)\n",
    "model = SentenceTransformer('all-MiniLM-L6-v2')\n",
    "\n",
    "# Generate embeddings for the discussion data\n",
    "embeddings = model.encode(df['discussion_text'].tolist(), batch_size=16, show_progress_bar=True)\n",
    "\n",
    "# Convert to numpy array\n",
    "embeddings = np.array(embeddings)\n",
    "\n",
    "# Define the dimension of embeddings\n",
    "d = embeddings.shape[1]\n",
    "\n",
    "# Create the FAISS index\n",
    "index = faiss.IndexFlatL2(d)  # L2 distance (Euclidean)"
   ]
  },
  {
   "cell_type": "code",
   "execution_count": 4,
   "id": "b2bf4944-3a54-4084-89f7-76d9789a07a0",
   "metadata": {},
   "outputs": [
    {
     "name": "stdout",
     "output_type": "stream",
     "text": [
      "Total vectors indexed: 3\n"
     ]
    }
   ],
   "source": [
    "# Add the embeddings to the FAISS index\n",
    "index.add(embeddings)\n",
    "print(f\"Total vectors indexed: {index.ntotal}\")\n",
    "\n",
    "# Example query\n",
    "query_text = \"How can I use FAISS for efficient searches?\"\n",
    "\n",
    "# Generate embedding for the query\n",
    "query_embedding = model.encode([query_text])\n",
    "\n",
    "# Perform the search for the nearest neighbors\n",
    "k = 2  # Number of nearest neighbors to return\n",
    "distances, indices = index.search(np.array(query_embedding), k)"
   ]
  },
  {
   "cell_type": "code",
   "execution_count": 5,
   "id": "d4d3ec12-bcdb-4afd-9346-5a5c2c7bf544",
   "metadata": {},
   "outputs": [
    {
     "name": "stdout",
     "output_type": "stream",
     "text": [
      "\n",
      "Query: How can I use FAISS for efficient searches?\n",
      "\n",
      "Top matching discussions:\n",
      "Discussion ID: 2, Text: 'The FAISS library is useful for vector search.', Distance: 0.9339967966079712\n",
      "Discussion ID: 1, Text: 'How to implement data indexing in Python?', Distance: 1.3885002136230469\n"
     ]
    }
   ],
   "source": [
    "# Display the results\n",
    "print(\"\\nQuery:\", query_text)\n",
    "print(\"\\nTop matching discussions:\")\n",
    "for idx, dist in zip(indices[0], distances[0]):\n",
    "    print(f\"Discussion ID: {df.iloc[idx]['discussion_id']}, Text: '{df.iloc[idx]['discussion_text']}', Distance: {dist}\")"
   ]
  }
 ],
 "metadata": {
  "kernelspec": {
   "display_name": "Python 3 (ipykernel)",
   "language": "python",
   "name": "python3"
  },
  "language_info": {
   "codemirror_mode": {
    "name": "ipython",
    "version": 3
   },
   "file_extension": ".py",
   "mimetype": "text/x-python",
   "name": "python",
   "nbconvert_exporter": "python",
   "pygments_lexer": "ipython3",
   "version": "3.12.4"
  }
 },
 "nbformat": 4,
 "nbformat_minor": 5
}
